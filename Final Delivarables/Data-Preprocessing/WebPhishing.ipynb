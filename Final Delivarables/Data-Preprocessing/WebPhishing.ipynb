{
 "cells": [
  {
   "cell_type": "code",
   "execution_count": 12,
   "id": "4d7825c7",
   "metadata": {},
   "outputs": [],
   "source": [
    "#Data Preprocessing\n",
    "#importing the required libraries\n",
    "\n",
    "# To perform operations on dataset\n",
    "\n",
    "import pandas as pd\n",
    "\n",
    "import numpy as np\n",
    "\n",
    "\n",
    "\n",
    "# Machine learning model\n",
    "\n",
    "from sklearn.model_selection import train_test_split\n",
    "\n",
    "from sklearn.tree import DecisionTreeClassifier\n",
    "\n",
    "\n",
    "\n",
    "# Visualization\n",
    "\n",
    "from sklearn import metrics\n",
    "\n",
    "from sklearn.metrics import confusion_matrix\n",
    "\n",
    "import matplotlib.pyplot as plt\n",
    "\n",
    "import seaborn as sns\n",
    "\n",
    "from sklearn.tree import export_graphviz"
   ]
  },
  {
   "cell_type": "code",
   "execution_count": 14,
   "id": "091bab5f",
   "metadata": {},
   "outputs": [],
   "source": [
    "#Reading the dataset\n",
    "df = pd.read_csv((\"../Flask/dataset_website.csv\")"
   ]
  },
  {
   "cell_type": "code",
   "execution_count": 15,
   "id": "cfea0d87",
   "metadata": {},
   "outputs": [
    {
     "name": "stdout",
     "output_type": "stream",
     "text": [
      "   index  having_IPhaving_IP_Address  URLURL_Length  Shortining_Service  \\\n",
      "0      1                          -1              1                   1   \n",
      "1      2                           1              1                   1   \n",
      "2      3                           1              0                   1   \n",
      "3      4                           1              0                   1   \n",
      "4      5                           1              0                  -1   \n",
      "\n",
      "   having_At_Symbol  double_slash_redirecting  Prefix_Suffix  \\\n",
      "0                 1                        -1             -1   \n",
      "1                 1                         1             -1   \n",
      "2                 1                         1             -1   \n",
      "3                 1                         1             -1   \n",
      "4                 1                         1             -1   \n",
      "\n",
      "   having_Sub_Domain  SSLfinal_State  Domain_registeration_length  ...  \\\n",
      "0                 -1              -1                           -1  ...   \n",
      "1                  0               1                           -1  ...   \n",
      "2                 -1              -1                           -1  ...   \n",
      "3                 -1              -1                            1  ...   \n",
      "4                  1               1                           -1  ...   \n",
      "\n",
      "   popUpWidnow  Iframe  age_of_domain  DNSRecord  web_traffic  Page_Rank  \\\n",
      "0            1       1             -1         -1           -1         -1   \n",
      "1            1       1             -1         -1            0         -1   \n",
      "2            1       1              1         -1            1         -1   \n",
      "3            1       1             -1         -1            1         -1   \n",
      "4           -1       1             -1         -1            0         -1   \n",
      "\n",
      "   Google_Index  Links_pointing_to_page  Statistical_report  Result  \n",
      "0             1                       1                  -1      -1  \n",
      "1             1                       1                   1      -1  \n",
      "2             1                       0                  -1      -1  \n",
      "3             1                      -1                   1      -1  \n",
      "4             1                       1                   1       1  \n",
      "\n",
      "[5 rows x 32 columns]\n"
     ]
    }
   ],
   "source": [
    "print(df.head())"
   ]
  },
  {
   "cell_type": "code",
   "execution_count": 16,
   "id": "5cf8553a",
   "metadata": {},
   "outputs": [],
   "source": [
    "#splitting the data\n",
    "\n",
    "X = df.iloc[:, :-1]\n",
    "\n",
    "y = df.iloc[:, -1]\n",
    "\n",
    "\n",
    "Xtrain, Xtest, ytrain, ytest = train_test_split(X, y, random_state=0)"
   ]
  },
  {
   "cell_type": "code",
   "execution_count": 17,
   "id": "f1241e4d",
   "metadata": {},
   "outputs": [
    {
     "data": {
      "text/plain": [
       "DecisionTreeClassifier()"
      ]
     },
     "execution_count": 17,
     "metadata": {},
     "output_type": "execute_result"
    }
   ],
   "source": [
    "model = DecisionTreeClassifier()\n",
    "\n",
    "model.fit(Xtrain, ytrain)"
   ]
  },
  {
   "cell_type": "code",
   "execution_count": 18,
   "id": "69ed5067",
   "metadata": {},
   "outputs": [
    {
     "name": "stdout",
     "output_type": "stream",
     "text": [
      "              precision    recall  f1-score   support\n",
      "\n",
      "          -1       0.94      0.95      0.94      1233\n",
      "           1       0.96      0.95      0.95      1531\n",
      "\n",
      "    accuracy                           0.95      2764\n",
      "   macro avg       0.95      0.95      0.95      2764\n",
      "weighted avg       0.95      0.95      0.95      2764\n",
      "\n",
      "\n",
      "\n",
      "Accuracy Score: 95.0 %\n"
     ]
    }
   ],
   "source": [
    "ypred = model.predict(Xtest)\n",
    "\n",
    "print(metrics.classification_report(ypred, ytest))\n",
    "\n",
    "print(\"\\n\\nAccuracy Score:\", metrics.accuracy_score(ytest, ypred).round(2)*100, \"%\")"
   ]
  },
  {
   "cell_type": "code",
   "execution_count": null,
   "id": "64823f99",
   "metadata": {},
   "outputs": [],
   "source": []
  }
 ],
 "metadata": {
  "kernelspec": {
   "display_name": "Python 3 (ipykernel)",
   "language": "python",
   "name": "python3"
  },
  "language_info": {
   "codemirror_mode": {
    "name": "ipython",
    "version": 3
   },
   "file_extension": ".py",
   "mimetype": "text/x-python",
   "name": "python",
   "nbconvert_exporter": "python",
   "pygments_lexer": "ipython3",
   "version": "3.9.13"
  }
 },
 "nbformat": 4,
 "nbformat_minor": 5
}
